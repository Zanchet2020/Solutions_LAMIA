{
 "cells": [
  {
   "cell_type": "code",
   "execution_count": 1,
   "id": "4d9bfb0d-945d-47b5-a4c1-dab4df0412d3",
   "metadata": {},
   "outputs": [],
   "source": [
    "import cv2\n",
    "import numpy as np"
   ]
  },
  {
   "cell_type": "code",
   "execution_count": 2,
   "id": "93ee1e45-c40e-43e4-a9ff-e493838ba33f",
   "metadata": {},
   "outputs": [],
   "source": [
    "cap = cv2.VideoCapture(0)"
   ]
  },
  {
   "cell_type": "code",
   "execution_count": 3,
   "id": "1347505f-b162-4213-b91e-d34894bd7b4e",
   "metadata": {},
   "outputs": [],
   "source": [
    "sharp_kernel = np.array([[0, -1, 0], \n",
    "                         [-1, 5, -1], \n",
    "                         [0, -1, 0]]) "
   ]
  },
  {
   "cell_type": "code",
   "execution_count": 3,
   "id": "002361b6-d9d7-4686-82ac-28f9a00e8af8",
   "metadata": {},
   "outputs": [],
   "source": [
    "acc_image = np.zeros((480, 640, 3))\n",
    "\n",
    "while True:\n",
    "    _, frame = cap.read()\n",
    "    hsv_frame = cv2.cvtColor(frame, cv2.COLOR_BGR2HSV)\n",
    "    \n",
    "    low_blue = np.array([94, 40, 120])\n",
    "    high_blue = np.array([126, 255, 255])\n",
    "    blue_mask = cv2.inRange(hsv_frame, low_blue, high_blue)\n",
    "    blue = cv2.bitwise_and(frame, frame, mask=blue_mask)\n",
    "    blue = cv2.GaussianBlur(blue, (5,5), cv2.BORDER_DEFAULT)\n",
    "\n",
    "    # Accumulating the highlight\n",
    "    acc_image = ((blue + acc_image.astype(float) * 1) / 2).astype(np.uint8)\n",
    "\n",
    "    # Converting from HSV to GRAYSCALE\n",
    "    blue_gray = cv2.cvtColor(cv2.cvtColor(acc_image, cv2.COLOR_HSV2BGR), cv2.COLOR_BGR2GRAY)\n",
    "\n",
    "    # Adaptive threshold to select the blue highlights\n",
    "    th = cv2.adaptiveThreshold(blue_gray,255,cv2.ADAPTIVE_THRESH_GAUSSIAN_C, cv2.THRESH_BINARY,21,4)\n",
    "\n",
    "    # Gaussian blur to smoothen the mask\n",
    "    th = cv2.GaussianBlur(th,(5,5),cv2.BORDER_DEFAULT)\n",
    "\n",
    "    #clipping_func = np.vectorize(lambda x: min(255, x * 3))\n",
    "\n",
    "    # Adding the glow to the original frame\n",
    "    glowing_blue = cv2.add(frame, acc_image.astype(np.uint8), th.astype(float))\n",
    "\n",
    "    #frame_without_blue = cv2.addWeighted()\n",
    "    cv2.imshow(\"Glowing blue\", glowing_blue)\n",
    "    #cv2.imshow(\"blue_gray\", blue_gray)\n",
    "    #cv2.imshow(\"Frame\", th)\n",
    "    #cv2.imshow(\"Added\", )\n",
    "    key = cv2.waitKey(1)\n",
    "    if key == 27:\n",
    "        cv2.destroyAllWindows()\n",
    "        break;"
   ]
  },
  {
   "cell_type": "code",
   "execution_count": 9,
   "id": "33ba354d-ee52-49bd-aaee-52276774254d",
   "metadata": {},
   "outputs": [],
   "source": [
    "cv2.destroyAllWindows()"
   ]
  }
 ],
 "metadata": {
  "kernelspec": {
   "display_name": "Python 3 (ipykernel)",
   "language": "python",
   "name": "python3"
  },
  "language_info": {
   "codemirror_mode": {
    "name": "ipython",
    "version": 3
   },
   "file_extension": ".py",
   "mimetype": "text/x-python",
   "name": "python",
   "nbconvert_exporter": "python",
   "pygments_lexer": "ipython3",
   "version": "3.12.6"
  }
 },
 "nbformat": 4,
 "nbformat_minor": 5
}
