{
 "cells": [
  {
   "cell_type": "code",
   "execution_count": 1,
   "id": "44da2854-6c8c-4336-9cb6-a183bd3f63e9",
   "metadata": {},
   "outputs": [],
   "source": [
    "import torch\n",
    "from torch.utils.data import Dataset, DataLoader\n",
    "# from keras.datasets import fashion_mnist\n",
    "from torchviz import make_dot"
   ]
  },
  {
   "cell_type": "code",
   "execution_count": 2,
   "id": "9123299c-912d-4c48-953d-bf3f1d1f77a8",
   "metadata": {},
   "outputs": [],
   "source": [
    "X = torch.tensor([[1.,2.],[3.,4.],[5.,6.],[7.,8.]]).to('cuda:0')\n",
    "Y = [[3],[7],[11],[15]]"
   ]
  },
  {
   "cell_type": "code",
   "execution_count": 3,
   "id": "384c4faa-b0b5-4b05-830c-271b8fad08df",
   "metadata": {},
   "outputs": [],
   "source": [
    "class MyDataset(Dataset):\n",
    "    def __init__(self, x, y):\n",
    "        self.X = torch.tensor(x).float().to('cuda:0')\n",
    "        self.Y = torch.tensor(y).float().to('cuda:0')\n",
    "\n",
    "    def __getitem__(self, index):\n",
    "        return self.X[index], self.Y[index]\n",
    "\n",
    "    def __len__(self):\n",
    "        return len(self.X)"
   ]
  },
  {
   "cell_type": "code",
   "execution_count": 4,
   "id": "9815447d-5bc2-4b4c-a2b6-658f2ef53a9c",
   "metadata": {},
   "outputs": [
    {
     "name": "stderr",
     "output_type": "stream",
     "text": [
      "/tmp/ipykernel_27384/1763244608.py:3: UserWarning: To copy construct from a tensor, it is recommended to use sourceTensor.clone().detach() or sourceTensor.clone().detach().requires_grad_(True), rather than torch.tensor(sourceTensor).\n",
      "  self.X = torch.tensor(x).float().to('cuda:0')\n"
     ]
    }
   ],
   "source": [
    "dataset = MyDataset(X,Y)\n",
    "dataloader = DataLoader(dataset, batch_size=2, shuffle=True)"
   ]
  },
  {
   "cell_type": "code",
   "execution_count": 5,
   "id": "0829957f-3a00-4b01-916e-1fad86160341",
   "metadata": {},
   "outputs": [
    {
     "data": {
      "text/plain": [
       "True"
      ]
     },
     "execution_count": 5,
     "metadata": {},
     "output_type": "execute_result"
    }
   ],
   "source": [
    "torch.cuda.is_available()"
   ]
  },
  {
   "cell_type": "code",
   "execution_count": 6,
   "id": "e4b69171-f0b5-408e-88a4-eda9f33ca787",
   "metadata": {},
   "outputs": [],
   "source": [
    "from torch import nn\n",
    "class MyModel(nn.Module):\n",
    "    def __init__(self):\n",
    "        super().__init__()\n",
    "        self.layer1 = nn.Linear(2, 8)\n",
    "        self.activation = nn.ReLU()\n",
    "        self.layer2 = nn.Linear(8,1)\n",
    "\n",
    "    def forward(self, x):\n",
    "        x = self.layer1(x)\n",
    "        x = self.activation(x)\n",
    "        x = self.layer2(x)\n",
    "        return x"
   ]
  },
  {
   "cell_type": "code",
   "execution_count": 7,
   "id": "cad73b38-6f3c-4610-b1f5-2abd59ccf408",
   "metadata": {},
   "outputs": [],
   "source": [
    "model = MyModel().to('cuda:0')"
   ]
  },
  {
   "cell_type": "code",
   "execution_count": 8,
   "id": "25574d56-45d0-46f6-b123-e8e3f8aa853f",
   "metadata": {},
   "outputs": [
    {
     "data": {
      "text/plain": [
       "'dense_network.png'"
      ]
     },
     "execution_count": 8,
     "metadata": {},
     "output_type": "execute_result"
    }
   ],
   "source": [
    "make_dot(model(X), params=dict(model.named_parameters())).render('dense_network', format='png')"
   ]
  },
  {
   "cell_type": "code",
   "execution_count": 9,
   "id": "b1229ea7-0f18-4813-86ac-942d0b57ddd0",
   "metadata": {
    "scrolled": true
   },
   "outputs": [
    {
     "data": {
      "text/plain": [
       "Parameter containing:\n",
       "tensor([[ 0.6786,  0.0897],\n",
       "        [ 0.2578, -0.2195],\n",
       "        [ 0.4021,  0.0193],\n",
       "        [-0.6559,  0.4298],\n",
       "        [-0.6764, -0.3558],\n",
       "        [-0.0907,  0.4690],\n",
       "        [ 0.2783,  0.5290],\n",
       "        [-0.6109, -0.2657]], device='cuda:0', requires_grad=True)"
      ]
     },
     "execution_count": 9,
     "metadata": {},
     "output_type": "execute_result"
    }
   ],
   "source": [
    "model.layer1.weight"
   ]
  },
  {
   "cell_type": "code",
   "execution_count": 10,
   "id": "f6cfa669-e12a-4d80-88d8-aad98ba13a87",
   "metadata": {},
   "outputs": [],
   "source": [
    "loss = nn.MSELoss()"
   ]
  },
  {
   "cell_type": "code",
   "execution_count": 11,
   "id": "8eb9a80b-0a2a-4202-9229-01f1f643f52a",
   "metadata": {},
   "outputs": [],
   "source": [
    "opt = torch.optim.SGD(model.parameters(), lr= 0.000001)"
   ]
  },
  {
   "cell_type": "code",
   "execution_count": 12,
   "id": "c724a8d1-0493-42a2-8575-b8ad002554ef",
   "metadata": {},
   "outputs": [],
   "source": [
    "model.train()\n",
    "loss_list = []\n",
    "for epoch in range(10000):\n",
    "    for ix, iy in dataloader:\n",
    "        opt.zero_grad()\n",
    "        loss_value = loss(model(ix), iy)\n",
    "    \n",
    "        loss_value.backward()\n",
    "        opt.step()\n",
    "        loss_list.append(loss_value.detach())"
   ]
  },
  {
   "cell_type": "code",
   "execution_count": 13,
   "id": "8c9176c0-eb4a-468f-bc85-ef4ac514c168",
   "metadata": {},
   "outputs": [
    {
     "data": {
      "text/plain": [
       "tensor(0.0127, device='cuda:0')"
      ]
     },
     "execution_count": 13,
     "metadata": {},
     "output_type": "execute_result"
    }
   ],
   "source": [
    "loss_list[-1]"
   ]
  },
  {
   "cell_type": "code",
   "execution_count": 14,
   "id": "721daa9e-c5c3-4158-a5f0-621c96c9a06c",
   "metadata": {},
   "outputs": [
    {
     "data": {
      "text/plain": [
       "tensor([3.1903], device='cuda:0', grad_fn=<ViewBackward0>)"
      ]
     },
     "execution_count": 14,
     "metadata": {},
     "output_type": "execute_result"
    }
   ],
   "source": [
    "model.forward(torch.tensor([1.,2.]).to('cuda:0'))"
   ]
  },
  {
   "cell_type": "code",
   "execution_count": 148,
   "id": "d02a4e24-477b-4858-8ba0-8463ae1b1511",
   "metadata": {},
   "outputs": [
    {
     "ename": "NameError",
     "evalue": "name 'FLOAT_MIN' is not defined",
     "output_type": "error",
     "traceback": [
      "\u001b[1;31m---------------------------------------------------------------------------\u001b[0m",
      "\u001b[1;31mNameError\u001b[0m                                 Traceback (most recent call last)",
      "Cell \u001b[1;32mIn[148], line 1\u001b[0m\n\u001b[1;32m----> 1\u001b[0m \u001b[43mFLOAT_MIN\u001b[49m\n",
      "\u001b[1;31mNameError\u001b[0m: name 'FLOAT_MIN' is not defined"
     ]
    }
   ],
   "source": []
  }
 ],
 "metadata": {
  "kernelspec": {
   "display_name": "Python 3 (ipykernel)",
   "language": "python",
   "name": "python3"
  },
  "language_info": {
   "codemirror_mode": {
    "name": "ipython",
    "version": 3
   },
   "file_extension": ".py",
   "mimetype": "text/x-python",
   "name": "python",
   "nbconvert_exporter": "python",
   "pygments_lexer": "ipython3",
   "version": "3.12.6"
  }
 },
 "nbformat": 4,
 "nbformat_minor": 5
}
