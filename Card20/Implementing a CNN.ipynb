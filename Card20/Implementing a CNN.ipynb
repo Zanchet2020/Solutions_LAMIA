{
 "cells": [
  {
   "cell_type": "code",
   "execution_count": 1,
   "id": "c79b47c5-d01f-4516-bffa-9341f5be02cb",
   "metadata": {},
   "outputs": [],
   "source": [
    "import torch\n",
    "device = 'cuda' if torch.cuda.is_available() else 'cpu'"
   ]
  },
  {
   "cell_type": "code",
   "execution_count": 2,
   "id": "5087f6f8-04dc-4cd1-8716-f502b0bac572",
   "metadata": {},
   "outputs": [],
   "source": [
    "X_train = torch.tensor([[[[4, 5, 6, 7], [5, 6, 7, 8], [8, 9, 10, 11], [4, 6, 7, 8]]], [[[-4, 5, 6, -7], [5, -6, 7, 8], [-8, -9, -10, 11], [-4, -6, -7, -8]]]]).float().to(device)\n",
    "X_train.div(8)\n",
    "y_train = torch.tensor([0, 1]).float().to(device)"
   ]
  },
  {
   "cell_type": "code",
   "execution_count": 3,
   "id": "514b9f09-9cde-42a8-af70-f6672a0d385b",
   "metadata": {},
   "outputs": [
    {
     "data": {
      "text/plain": [
       "torch.Size([2, 1, 4, 4])"
      ]
     },
     "execution_count": 3,
     "metadata": {},
     "output_type": "execute_result"
    }
   ],
   "source": [
    "X_train.shape"
   ]
  },
  {
   "cell_type": "code",
   "execution_count": 4,
   "id": "a3b35f06-2052-4157-8ffa-9097a880cd67",
   "metadata": {},
   "outputs": [
    {
     "data": {
      "text/plain": [
       "torch.Size([2])"
      ]
     },
     "execution_count": 4,
     "metadata": {},
     "output_type": "execute_result"
    }
   ],
   "source": [
    "y_train.shape"
   ]
  },
  {
   "cell_type": "code",
   "execution_count": 5,
   "id": "86456832-3d9f-4828-8ab0-6485acb41be4",
   "metadata": {},
   "outputs": [],
   "source": [
    "import torch.nn as nn\n",
    "from torch.optim import Adam"
   ]
  },
  {
   "cell_type": "code",
   "execution_count": 6,
   "id": "f26219f2-3f06-49a3-9caf-bdc2b79e1264",
   "metadata": {},
   "outputs": [],
   "source": [
    "def get_model():\n",
    "    model = nn.Sequential(\n",
    "        nn.Conv2d(in_channels=1, out_channels=1, kernel_size=3),\n",
    "        nn.MaxPool2d(kernel_size=2),\n",
    "        nn.ReLU(),\n",
    "        nn.Flatten(),\n",
    "        nn.Linear(1,1),\n",
    "        nn.Sigmoid()\n",
    "    ).to(device)\n",
    "    loss_fn = nn.BCELoss()\n",
    "    optimizer = Adam(model.parameters(), lr=0.01)\n",
    "\n",
    "    return model, loss_fn, optimizer"
   ]
  },
  {
   "cell_type": "code",
   "execution_count": 7,
   "id": "f67f6b51-1101-447a-90fe-6ce61acb95ae",
   "metadata": {},
   "outputs": [],
   "source": [
    "model, loss_fn, optimizer = get_model()"
   ]
  },
  {
   "cell_type": "code",
   "execution_count": 8,
   "id": "f0a08ca7-73b1-4b91-990f-cbfce071c949",
   "metadata": {},
   "outputs": [
    {
     "data": {
      "text/plain": [
       "Sequential(\n",
       "  (0): Conv2d(1, 1, kernel_size=(3, 3), stride=(1, 1))\n",
       "  (1): MaxPool2d(kernel_size=2, stride=2, padding=0, dilation=1, ceil_mode=False)\n",
       "  (2): ReLU()\n",
       "  (3): Flatten(start_dim=1, end_dim=-1)\n",
       "  (4): Linear(in_features=1, out_features=1, bias=True)\n",
       "  (5): Sigmoid()\n",
       ")"
      ]
     },
     "execution_count": 8,
     "metadata": {},
     "output_type": "execute_result"
    }
   ],
   "source": [
    "model"
   ]
  },
  {
   "cell_type": "code",
   "execution_count": 9,
   "id": "5551f406-d56f-410e-9ba3-a251c88905bb",
   "metadata": {},
   "outputs": [],
   "source": [
    "def train_batch(x, y, model, optimizer, loss_fn):\n",
    "    model.train()\n",
    "    optimizer.zero_grad()\n",
    "    y_pred = model(x)\n",
    "    batch_loss = loss_fn(y_pred.squeeze(), y.squeeze())\n",
    "    batch_loss.backward()\n",
    "    optimizer.step()\n",
    "    return batch_loss.item()"
   ]
  },
  {
   "cell_type": "code",
   "execution_count": 10,
   "id": "44ed5712-2d0f-4d65-a0b3-6c77447701b2",
   "metadata": {},
   "outputs": [],
   "source": [
    "from torch.utils.data import TensorDataset, Dataset, DataLoader\n",
    "train_dl = DataLoader(TensorDataset(X_train, y_train))"
   ]
  },
  {
   "cell_type": "code",
   "execution_count": 11,
   "id": "e9b7da5c-864c-4b70-aca3-fc37434a3af6",
   "metadata": {},
   "outputs": [],
   "source": [
    "losses = []\n",
    "for epoch in range(300):\n",
    "    avg_loss = 0\n",
    "    for ix, batch in enumerate(train_dl):\n",
    "        x, y = batch\n",
    "        x = x.to(device)\n",
    "        y = y.to(device)\n",
    "        batch_loss = train_batch(x, y, model, optimizer, loss_fn)\n",
    "        avg_loss = (avg_loss + batch_loss) / 2\n",
    "    losses.append(batch_loss)"
   ]
  },
  {
   "cell_type": "code",
   "execution_count": 12,
   "id": "d8f71dde-369b-476f-90ff-a032a89195a4",
   "metadata": {},
   "outputs": [
    {
     "data": {
      "text/plain": [
       "[<matplotlib.lines.Line2D at 0x7f8e76ad9430>]"
      ]
     },
     "execution_count": 12,
     "metadata": {},
     "output_type": "execute_result"
    },
    {
     "data": {
      "image/png": "[encoded data removed]",
      "text/plain": [
       "<Figure size 640x480 with 1 Axes>"
      ]
     },
     "metadata": {},
     "output_type": "display_data"
    }
   ],
   "source": [
    "import matplotlib.pyplot as plt\n",
    "plt.plot(losses)"
   ]
  }
 ],
 "metadata": {
  "kernelspec": {
   "display_name": "Python 3 (ipykernel)",
   "language": "python",
   "name": "python3"
  },
  "language_info": {
   "codemirror_mode": {
    "name": "ipython",
    "version": 3
   },
   "file_extension": ".py",
   "mimetype": "text/x-python",
   "name": "python",
   "nbconvert_exporter": "python",
   "pygments_lexer": "ipython3",
   "version": "3.12.6"
  }
 },
 "nbformat": 4,
 "nbformat_minor": 5
}
