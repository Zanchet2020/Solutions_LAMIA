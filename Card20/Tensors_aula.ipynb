{
 "cells": [
  {
   "cell_type": "code",
   "execution_count": 13,
   "id": "8b0e4169-dc92-4599-8320-b127f9291c61",
   "metadata": {},
   "outputs": [],
   "source": [
    "import torch\n",
    "import torchshow as ts"
   ]
  },
  {
   "cell_type": "markdown",
   "id": "5050db64-def8-43a5-868e-b05aacc9003d",
   "metadata": {},
   "source": [
    "Creating a tensor from an array"
   ]
  },
  {
   "cell_type": "code",
   "execution_count": 4,
   "id": "40a15ce0-1490-4a53-8cf6-c31fe1ea4bca",
   "metadata": {},
   "outputs": [
    {
     "data": {
      "text/plain": [
       "tensor([123, 231])"
      ]
     },
     "execution_count": 4,
     "metadata": {},
     "output_type": "execute_result"
    }
   ],
   "source": [
    "sample = torch.tensor([123,231])\n",
    "sample"
   ]
  },
  {
   "cell_type": "markdown",
   "id": "e5ec80a2-cfd2-4b54-8702-a81b39f8106d",
   "metadata": {},
   "source": [
    "Tensor with more dimensions"
   ]
  },
  {
   "cell_type": "code",
   "execution_count": 5,
   "id": "f9664043-460c-45e9-9e76-d304b4360efa",
   "metadata": {},
   "outputs": [
    {
     "data": {
      "text/plain": [
       "tensor([[[ 12, 124],\n",
       "         [234, 176],\n",
       "         [ 76,  88]],\n",
       "\n",
       "        [[ 55, 145],\n",
       "         [ 64,  11],\n",
       "         [ 94, 230]]])"
      ]
     },
     "execution_count": 5,
     "metadata": {},
     "output_type": "execute_result"
    }
   ],
   "source": [
    "sample = torch.tensor([[[12,124],[234,176],[76, 88]],[[55,145],[64,11],[94, 230]]])\n",
    "sample"
   ]
  },
  {
   "cell_type": "markdown",
   "id": "09de66eb-b625-4a90-a85b-1fcb8ad4f9d8",
   "metadata": {},
   "source": [
    "Visualizing Tensor with torchshow"
   ]
  },
  {
   "cell_type": "code",
   "execution_count": 14,
   "id": "8cc1f854-086e-44b7-b26c-f856eb636e15",
   "metadata": {},
   "outputs": [
    {
     "data": {
      "image/png": "[encoded data removed]",
      "text/plain": [
       "<Figure size 640x480 with 1 Axes>"
      ]
     },
     "metadata": {},
     "output_type": "display_data"
    }
   ],
   "source": [
    "ts.show(sample)"
   ]
  },
  {
   "cell_type": "markdown",
   "id": "521ff768-b594-46bb-9475-8434992446fd",
   "metadata": {},
   "source": [
    "Tensor operations"
   ]
  },
  {
   "cell_type": "code",
   "execution_count": 15,
   "id": "3539296b-0b67-4f8e-b660-929d84c5e0f1",
   "metadata": {},
   "outputs": [
    {
     "data": {
      "text/plain": [
       "tensor([[[ 120, 1240],\n",
       "         [2340, 1760],\n",
       "         [ 760,  880]],\n",
       "\n",
       "        [[ 550, 1450],\n",
       "         [ 640,  110],\n",
       "         [ 940, 2300]]])"
      ]
     },
     "execution_count": 15,
     "metadata": {},
     "output_type": "execute_result"
    }
   ],
   "source": [
    "sample * 10"
   ]
  },
  {
   "cell_type": "code",
   "execution_count": 16,
   "id": "0644c79e-a2af-42d5-94bf-a8e27b33f09b",
   "metadata": {},
   "outputs": [
    {
     "data": {
      "text/plain": [
       "tensor([[[ 27, 139],\n",
       "         [249, 191],\n",
       "         [ 91, 103]],\n",
       "\n",
       "        [[ 70, 160],\n",
       "         [ 79,  26],\n",
       "         [109, 245]]])"
      ]
     },
     "execution_count": 16,
     "metadata": {},
     "output_type": "execute_result"
    }
   ],
   "source": [
    "sample.add(15)"
   ]
  },
  {
   "cell_type": "code",
   "execution_count": 17,
   "id": "eb26e974-abe4-491d-b1ad-ae98c0dd9b35",
   "metadata": {},
   "outputs": [
    {
     "data": {
      "text/plain": [
       "tensor([[[0.0469, 0.4844],\n",
       "         [0.9141, 0.6875],\n",
       "         [0.2969, 0.3438]],\n",
       "\n",
       "        [[0.2148, 0.5664],\n",
       "         [0.2500, 0.0430],\n",
       "         [0.3672, 0.8984]]])"
      ]
     },
     "execution_count": 17,
     "metadata": {},
     "output_type": "execute_result"
    }
   ],
   "source": [
    "sample / 256"
   ]
  },
  {
   "cell_type": "code",
   "execution_count": 19,
   "id": "702703d8-ea3c-40d0-a8f4-32cce87d974d",
   "metadata": {},
   "outputs": [
    {
     "data": {
      "text/plain": [
       "tensor([[1953199,   76480, 1113740],\n",
       "        [6263964,  767677,  601972]])"
      ]
     },
     "execution_count": 19,
     "metadata": {},
     "output_type": "execute_result"
    }
   ],
   "source": [
    "a = torch.tensor([[20,124,131,321],\n",
    "                  [12343,132,55,76]])\n",
    "\n",
    "b = torch.tensor([[462,56,11],\n",
    "                  [985,563,2],\n",
    "                  [6,35,8437],\n",
    "                  [5673,3,25]])\n",
    "\n",
    "torch.matmul(a, b)"
   ]
  },
  {
   "cell_type": "code",
   "execution_count": 20,
   "id": "933f6436-b03b-4956-8759-9630f4b3727d",
   "metadata": {},
   "outputs": [
    {
     "data": {
      "text/plain": [
       "torch.Size([2, 4])"
      ]
     },
     "execution_count": 20,
     "metadata": {},
     "output_type": "execute_result"
    }
   ],
   "source": [
    "a.shape"
   ]
  },
  {
   "cell_type": "code",
   "execution_count": 21,
   "id": "5bfc7dcc-e44e-4444-af1a-8f4af5fcc809",
   "metadata": {},
   "outputs": [
    {
     "data": {
      "text/plain": [
       "torch.Size([4, 3])"
      ]
     },
     "execution_count": 21,
     "metadata": {},
     "output_type": "execute_result"
    }
   ],
   "source": [
    "b.shape"
   ]
  },
  {
   "cell_type": "code",
   "execution_count": 22,
   "id": "0766117a-8cb1-4a64-a5c0-6872261b3c91",
   "metadata": {},
   "outputs": [
    {
     "data": {
      "text/plain": [
       "tensor([[   20, 12343],\n",
       "        [  124,   132],\n",
       "        [  131,    55],\n",
       "        [  321,    76]])"
      ]
     },
     "execution_count": 22,
     "metadata": {},
     "output_type": "execute_result"
    }
   ],
   "source": [
    "a.permute(1,0)"
   ]
  },
  {
   "cell_type": "markdown",
   "id": "87234e7a-a413-493b-b95d-050635d92382",
   "metadata": {},
   "source": [
    "Reshaping tensor"
   ]
  },
  {
   "cell_type": "code",
   "execution_count": 23,
   "id": "e4a8867c-4666-4cd7-b96e-6914aae95161",
   "metadata": {},
   "outputs": [
    {
     "data": {
      "text/plain": [
       "tensor([[ 12],\n",
       "        [124],\n",
       "        [234],\n",
       "        [176],\n",
       "        [ 76],\n",
       "        [ 88],\n",
       "        [ 55],\n",
       "        [145],\n",
       "        [ 64],\n",
       "        [ 11],\n",
       "        [ 94],\n",
       "        [230]])"
      ]
     },
     "execution_count": 23,
     "metadata": {},
     "output_type": "execute_result"
    }
   ],
   "source": [
    "sample.view(12,1)"
   ]
  },
  {
   "cell_type": "code",
   "execution_count": 50,
   "id": "36331f2d-8792-4ce0-8ea5-d199731df460",
   "metadata": {},
   "outputs": [
    {
     "data": {
      "text/plain": [
       "tensor([[[ 1.7325,  0.6809, -0.4698, -0.8469, -1.7997],\n",
       "         [-0.6213,  1.0816, -0.1947,  1.3316,  0.2757],\n",
       "         [ 0.4709,  0.8870,  0.3675,  1.1646, -0.5403],\n",
       "         [-2.0863,  0.4302, -0.0498,  2.1640,  0.3601],\n",
       "         [ 1.7325,  0.6809, -0.4698, -0.8469, -1.7997],\n",
       "         [-0.6213,  1.0816, -0.1947,  1.3316,  0.2757],\n",
       "         [ 0.4709,  0.8870,  0.3675,  1.1646, -0.5403],\n",
       "         [-2.0863,  0.4302, -0.0498,  2.1640,  0.3601]]])"
      ]
     },
     "execution_count": 50,
     "metadata": {},
     "output_type": "execute_result"
    }
   ],
   "source": [
    "x = torch.randn(1, 4, 5)\n",
    "z = torch.cat([x,x], axis = 1)\n",
    "z"
   ]
  },
  {
   "cell_type": "code",
   "execution_count": null,
   "id": "c9d85232-3dbb-4dd2-aa44-6b12c01850b5",
   "metadata": {},
   "outputs": [],
   "source": []
  }
 ],
 "metadata": {
  "kernelspec": {
   "display_name": "Python 3 (ipykernel)",
   "language": "python",
   "name": "python3"
  },
  "language_info": {
   "codemirror_mode": {
    "name": "ipython",
    "version": 3
   },
   "file_extension": ".py",
   "mimetype": "text/x-python",
   "name": "python",
   "nbconvert_exporter": "python",
   "pygments_lexer": "ipython3",
   "version": "3.12.6"
  }
 },
 "nbformat": 4,
 "nbformat_minor": 5
}
