{
 "cells": [
  {
   "cell_type": "code",
   "execution_count": 14,
   "id": "0d2093ed-3bce-4cdd-9d71-cfde744e217e",
   "metadata": {},
   "outputs": [
    {
     "data": {
      "text/plain": [
       "'cuda'"
      ]
     },
     "execution_count": 14,
     "metadata": {},
     "output_type": "execute_result"
    }
   ],
   "source": [
    "import torch\n",
    "from torch import nn\n",
    "import torchvision\n",
    "from torch_snippets import *\n",
    "device = 'cuda' if torch.cuda.is_available() else 'cpu'\n",
    "device"
   ]
  },
  {
   "cell_type": "code",
   "execution_count": 3,
   "id": "bbe6f104-e6d6-4d59-89b4-e1d3f8e7a200",
   "metadata": {},
   "outputs": [
    {
     "name": "stdout",
     "output_type": "stream",
     "text": [
      "Downloading https://www.cs.toronto.edu/~kriz/cifar-10-python.tar.gz to /home/zanchet/cifar10/cifar/cifar-10-python.tar.gz\n"
     ]
    },
    {
     "name": "stderr",
     "output_type": "stream",
     "text": [
      "100%|██████████████████████████████████████████████████████| 170M/170M [00:21<00:00, 7.89MB/s]\n"
     ]
    },
    {
     "name": "stdout",
     "output_type": "stream",
     "text": [
      "Extracting /home/zanchet/cifar10/cifar/cifar-10-python.tar.gz to /home/zanchet/cifar10/cifar/\n"
     ]
    },
    {
     "data": {
      "text/plain": [
       "Dataset CIFAR10\n",
       "    Number of datapoints: 50000\n",
       "    Root location: /home/zanchet/cifar10/cifar/\n",
       "    Split: Train"
      ]
     },
     "execution_count": 3,
     "metadata": {},
     "output_type": "execute_result"
    }
   ],
   "source": [
    "from torchvision import datasets\n",
    "data_folder = \"~/cifar10/cifar/\"\n",
    "datasets.CIFAR10(data_folder, download=True)"
   ]
  },
  {
   "cell_type": "code",
   "execution_count": 7,
   "id": "7251d2ac-6327-45c4-96a4-c76ee7a82af6",
   "metadata": {},
   "outputs": [],
   "source": [
    "class Colorize(torchvision.datasets.CIFAR10):\n",
    "    def __init__(self, root, train):\n",
    "        super().__init__(root, train)\n",
    "\n",
    "    def __getitem__(self, ix):\n",
    "        im, _ = super().__getitem__(ix)\n",
    "        bw = im.convert('L').convert('RGB')\n",
    "        bw = np.array(bw)/255.\n",
    "        im = np.array(im)/255.\n",
    "        bw, im = [torch.tensor(i).permute(2,0,1).to(device).float() for i in [bw, im]]\n",
    "        return bw, im"
   ]
  },
  {
   "cell_type": "code",
   "execution_count": 8,
   "id": "4c25c55c-06cf-458f-baae-8cff3c466235",
   "metadata": {},
   "outputs": [],
   "source": [
    "trn_ds = Colorize(data_folder, train=True)"
   ]
  },
  {
   "cell_type": "code",
   "execution_count": 9,
   "id": "39cfe01a-b3a8-4d69-9048-499955304daa",
   "metadata": {},
   "outputs": [],
   "source": [
    "val_ds = Colorize(data_folder, train=False)"
   ]
  },
  {
   "cell_type": "code",
   "execution_count": 12,
   "id": "a4415f40-581a-47b5-88b9-518e32b58cb5",
   "metadata": {},
   "outputs": [],
   "source": [
    "trn_dl = torch.utils.data.DataLoader(trn_ds, batch_size = 256, shuffle=True)\n",
    "val_dl = torch.utils.data.DataLoader(val_ds, batch_size = 256, shuffle=False)"
   ]
  },
  {
   "cell_type": "code",
   "execution_count": 13,
   "id": "aa1971b5-0773-4b5d-8245-ee0aa2641c65",
   "metadata": {},
   "outputs": [
    {
     "data": {
      "image/png": "[encoded data removed]",
      "text/plain": [
       "<Figure size 500x500 with 2 Axes>"
      ]
     },
     "metadata": {},
     "output_type": "display_data"
    }
   ],
   "source": [
    "a,b = trn_ds[0]\n",
    "subplots([a,b], nc=2)"
   ]
  },
  {
   "cell_type": "code",
   "execution_count": 18,
   "id": "e73af93b-7c30-4196-b978-3d772faf111a",
   "metadata": {},
   "outputs": [],
   "source": [
    "class Identity(nn.Module):\n",
    "    def __init__(self):\n",
    "        super().__init__()\n",
    "\n",
    "    def forward(self, x):\n",
    "        return x\n",
    "\n",
    "class DownConv(nn.Module):\n",
    "    def __init__(self, ni, no, maxpool = True):\n",
    "        super().__init__()\n",
    "        self.model = nn.Sequential(\n",
    "            nn.MaxPool2d(2) if maxpool else Identity(),\n",
    "            nn.Conv2d(ni, no, 3, padding=1),\n",
    "            nn.BatchNorm2d(no),\n",
    "            nn.LeakyReLU(0.2, inplace=True),\n",
    "            nn.Conv2d(no,no,2,padding=1),\n",
    "            nn.BatchNorm2d(no),\n",
    "            nn.LeakyReLU(0.2, inplace=True)\n",
    "        )\n",
    "        \n",
    "    def forward(self, x):\n",
    "        return self.model(x)\n",
    "\n",
    "class UpConv(nn.Module):\n",
    "    def __init__(self, ni, no, maxpool = True):\n",
    "        super().__init__()\n",
    "        self.convtranspose = nn.ConvTranspose2d(ni, no, 2, stride=2)\n",
    "        self.convlayers = nn.Sequential(\n",
    "            nn.Conv2d(no+no, no, 3, padding=1),\n",
    "            nn.BatchNorm2d(no),\n",
    "            nn.LeakyReLU(0.2, inplace=True),\n",
    "            nn.Conv2d(no,no,3,padding=1),\n",
    "            nn.BatchNorm2d(no),\n",
    "            nn.LeakyReLU(0.2, inplace=True)\n",
    "        )\n",
    "        \n",
    "    def forward(self, x, y):\n",
    "        x = self.convtranspose(x)\n",
    "        x = torch.cat([x,y], axis=1)\n",
    "        x = self.convlayers(x)\n",
    "        return x\n",
    "\n",
    "class UNet(nn.Module):\n",
    "    def __init__(self):\n",
    "        self.d1 = DownConv(3, 64, maxpool=False)\n",
    "        self.d2 = DownConv(64, 128)\n",
    "        self.d3 = DownConv(128, 256)\n",
    "        self.d4 = DownConv(256, 512)\n",
    "        self.d5 = DownConv(512, 1024)\n",
    "        self.u5 = UpConv(1024, 512)\n",
    "        self.u4 = UpConv(512, 256)\n",
    "        self.u3 = UpConv(256, 128)\n",
    "        self.u2 = UpConv(128, 64)\n",
    "        self.u1 = nn.Conv2d(64, 3, kernel_size=1, stride=1)\n",
    "\n",
    "    def forward(self, x):\n",
    "        x0 = self.d1(x)\n",
    "        x1 = self.d2(x0)\n",
    "        x2 = self.d3(x1)\n",
    "        x3 = self.d4(x2)\n",
    "        x4 = self.d5(x3)\n",
    "        X4 = self.u5(x4, x3)\n",
    "        X3 = self.u4(X4, x2)\n",
    "        X2 = self.u3(X3, x1)\n",
    "        X1 = self.u2(X2, x0)\n",
    "        return self.u1(X1)"
   ]
  },
  {
   "cell_type": "code",
   "execution_count": null,
   "id": "c8518a1c-4458-4616-a18e-d5dc10784f91",
   "metadata": {},
   "outputs": [],
   "source": [
    "def get_model():\n",
    "    model = UNet().to(device)\n",
    "    optimizer = torch.optim.Adam(model.parameters(), lr=1e-3)\n",
    "    loss_fn = nn.MSELoss()\n",
    "    return model, optimizer, loss_fn"
   ]
  },
  {
   "cell_type": "code",
   "execution_count": 19,
   "id": "ea1f86fa-7cab-4a78-81d0-9f7fb9c6320f",
   "metadata": {},
   "outputs": [],
   "source": [
    "def train_batch(model, data, optimizer, criterion):\n",
    "    model.train()\n",
    "    x, y = data\n",
    "    _y = model(x)\n",
    "    optimizer.zero_grad()\n",
    "    loss = criterion(_y, y)\n",
    "    loss.backward()\n",
    "    optimizer.step()\n",
    "    return loss.item()"
   ]
  },
  {
   "cell_type": "code",
   "execution_count": null,
   "id": "8bdfa984-1948-445d-81cf-f881ed9797dc",
   "metadata": {},
   "outputs": [],
   "source": [
    "@torch.no_grad()\n",
    "def validate_batch(model, data, criterion):\n",
    "    "
   ]
  }
 ],
 "metadata": {
  "kernelspec": {
   "display_name": "Python 3 (ipykernel)",
   "language": "python",
   "name": "python3"
  },
  "language_info": {
   "codemirror_mode": {
    "name": "ipython",
    "version": 3
   },
   "file_extension": ".py",
   "mimetype": "text/x-python",
   "name": "python",
   "nbconvert_exporter": "python",
   "pygments_lexer": "ipython3",
   "version": "3.12.3"
  }
 },
 "nbformat": 4,
 "nbformat_minor": 5
}
