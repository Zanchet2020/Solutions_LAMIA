{
 "cells": [
  {
   "cell_type": "code",
   "execution_count": 1,
   "id": "9921115a-010a-4066-bf46-56fad7628e15",
   "metadata": {},
   "outputs": [],
   "source": [
    "import math\n",
    "\n",
    "#função sigmoide\n",
    "\n",
    "def sigmoid(x):\n",
    "    return 1/(1+math.exp(-x))"
   ]
  },
  {
   "cell_type": "code",
   "execution_count": 2,
   "id": "ef3442dd-35c1-44e2-bbb4-7f684cef2a7f",
   "metadata": {},
   "outputs": [],
   "source": [
    "import torch\n",
    "\n",
    "#função de ativação ReLU\n",
    "\n",
    "class ReLU(torch.nn.Module):\n",
    "    def __init__(self):\n",
    "        super().__init__()\n",
    "\n",
    "    def forward(self, x):\n",
    "        return torch.max(torch.zeros_like(x), x)"
   ]
  },
  {
   "cell_type": "code",
   "execution_count": 25,
   "id": "bbdda2c1-2131-4e57-9b92-01d2db0ad42c",
   "metadata": {},
   "outputs": [],
   "source": [
    "import numpy as np\n",
    "def tanh(x):\n",
    "    vec = np.asarray(x)\n",
    "    a = np.exp(vec)\n",
    "    b = np.exp((-1) * vec)\n",
    "    return (a - b)/(a + b)"
   ]
  },
  {
   "cell_type": "code",
   "execution_count": 26,
   "id": "d4b48aaa-abc9-4219-a359-934f695c8db7",
   "metadata": {},
   "outputs": [
    {
     "data": {
      "text/plain": [
       "array([0.        , 0.09966799, 0.19737532, 0.29131261, 0.46211716,\n",
       "       0.60436778, 0.71629787, 0.76159416, 1.        , 1.        ])"
      ]
     },
     "execution_count": 26,
     "metadata": {},
     "output_type": "execute_result"
    }
   ],
   "source": [
    "tanh([0, .1, .2, .3, .5, .7, .9, 1, 10, 20])"
   ]
  }
 ],
 "metadata": {
  "kernelspec": {
   "display_name": "Python 3 (ipykernel)",
   "language": "python",
   "name": "python3"
  },
  "language_info": {
   "codemirror_mode": {
    "name": "ipython",
    "version": 3
   },
   "file_extension": ".py",
   "mimetype": "text/x-python",
   "name": "python",
   "nbconvert_exporter": "python",
   "pygments_lexer": "ipython3",
   "version": "3.12.6"
  }
 },
 "nbformat": 4,
 "nbformat_minor": 5
}
