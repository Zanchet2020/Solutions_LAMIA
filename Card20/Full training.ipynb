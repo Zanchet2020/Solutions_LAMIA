{
 "cells": [
  {
   "cell_type": "code",
   "execution_count": 1,
   "id": "72f4a2b0-7524-4e7c-8c62-c1276d45f7f8",
   "metadata": {},
   "outputs": [],
   "source": [
    "import torch\n",
    "import torch.nn as nn\n",
    "from torch.optim import SGD\n",
    "import matplotlib.pyplot as plt\n",
    "%matplotlib inline"
   ]
  },
  {
   "cell_type": "code",
   "execution_count": 2,
   "id": "c93e26da-f6f9-428e-9834-d298cf2423a3",
   "metadata": {},
   "outputs": [],
   "source": [
    "#datasets\n",
    "\n",
    "x = [[1,2],[3,4],[5,6],[7,8]]\n",
    "y = [[3],[7],[11],[15]]"
   ]
  },
  {
   "cell_type": "code",
   "execution_count": 3,
   "id": "2743cd6a-6cb0-4cbb-abfe-789bf3cef6ab",
   "metadata": {},
   "outputs": [],
   "source": [
    "#convertendo para tensores\n",
    "X = torch.tensor(x).float()\n",
    "Y = torch.tensor(y).float()"
   ]
  },
  {
   "cell_type": "code",
   "execution_count": 4,
   "id": "cfbb1f11-72f4-4c63-a1c3-561a24a8aaba",
   "metadata": {},
   "outputs": [
    {
     "data": {
      "text/plain": [
       "'cuda'"
      ]
     },
     "execution_count": 4,
     "metadata": {},
     "output_type": "execute_result"
    }
   ],
   "source": [
    "device = 'cuda' if torch.cuda.is_available() else 'cpu'\n",
    "X = X.to(device)\n",
    "Y = Y.to(device)\n",
    "device"
   ]
  },
  {
   "cell_type": "code",
   "execution_count": 5,
   "id": "9e460c78-9737-4a28-bf09-9c52abd8e9cf",
   "metadata": {},
   "outputs": [],
   "source": [
    "#criando a rede neural\n",
    "\n",
    "class MyNeuralNet(nn.Module):\n",
    "  def __init__(self):    \n",
    "    super().__init__()\n",
    "    self.layer1 = nn.Linear(2,8)\n",
    "    self.activation = nn.ReLU()\n",
    "    self.layer2 =  nn.Linear(8,1)\n",
    "\n",
    "  def forward(self,x):\n",
    "    x = self.layer1(x)\n",
    "    x = self.activation(x)\n",
    "    x = self.layer2(x)\n",
    "    return x"
   ]
  },
  {
   "cell_type": "code",
   "execution_count": 6,
   "id": "fbfb851d-c303-4a63-8bdd-ac937afddd4f",
   "metadata": {},
   "outputs": [],
   "source": [
    "#criando o modelo\n",
    "\n",
    "model = MyNeuralNet()\n",
    "model = model.to(device)"
   ]
  },
  {
   "cell_type": "code",
   "execution_count": 7,
   "id": "004ece50-f00e-46bc-b0fa-f16a9a0627b9",
   "metadata": {},
   "outputs": [],
   "source": [
    "#definindo a loss function e o otimizador\n",
    "\n",
    "loss_func = nn.MSELoss()\n",
    "opt = SGD(model.parameters(), lr=0.001)"
   ]
  },
  {
   "cell_type": "code",
   "execution_count": 8,
   "id": "86b4f07c-b3de-4835-a98a-9d5b966b8d53",
   "metadata": {},
   "outputs": [],
   "source": [
    "losses = []\n",
    "\n",
    "#treinando por 50 épocas\n",
    "\n",
    "for _ in range(50):\n",
    "    opt.zero_grad() #configura os gradientes para 0\n",
    "    loss_value = loss_func(model(X), Y)\n",
    "    loss_value.backward()\n",
    "\n",
    "    opt.step()\n",
    "    losses.append(loss_value.cpu().detach().numpy())"
   ]
  },
  {
   "cell_type": "code",
   "execution_count": 9,
   "id": "f7931f85-1ee6-4540-a90f-cfa929509551",
   "metadata": {},
   "outputs": [
    {
     "data": {
      "text/plain": [
       "Text(0, 0.5, 'Loss')"
      ]
     },
     "execution_count": 9,
     "metadata": {},
     "output_type": "execute_result"
    },
    {
     "data": {
      "image/png": "[encoded data removed]",
      "text/plain": [
       "<Figure size 640x480 with 1 Axes>"
      ]
     },
     "metadata": {},
     "output_type": "display_data"
    }
   ],
   "source": [
    "plt.plot(losses)\n",
    "plt.title('Loss em cada época')\n",
    "plt.xlabel('Épocas')\n",
    "plt.ylabel('Loss')"
   ]
  }
 ],
 "metadata": {
  "kernelspec": {
   "display_name": "Python 3 (ipykernel)",
   "language": "python",
   "name": "python3"
  },
  "language_info": {
   "codemirror_mode": {
    "name": "ipython",
    "version": 3
   },
   "file_extension": ".py",
   "mimetype": "text/x-python",
   "name": "python",
   "nbconvert_exporter": "python",
   "pygments_lexer": "ipython3",
   "version": "3.12.3"
  }
 },
 "nbformat": 4,
 "nbformat_minor": 5
}
