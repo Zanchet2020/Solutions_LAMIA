{
 "cells": [
  {
   "cell_type": "code",
   "execution_count": 5,
   "id": "d3eee146-835d-4fa2-90bf-3f335a1f4e66",
   "metadata": {},
   "outputs": [],
   "source": [
    "import os\n",
    "\n",
    "for file in os.listdir():\n",
    "    name, ext = file.split('.')\n",
    "    if name.split('_')[-1] == 'pratica' or name.split('_')[-1] == 'aula' or ext != 'ipynb':\n",
    "        continue\n",
    "    \n",
    "    os.rename(file, name + '_aula.' + ext)"
   ]
  }
 ],
 "metadata": {
  "kernelspec": {
   "display_name": "Python 3 (ipykernel)",
   "language": "python",
   "name": "python3"
  },
  "language_info": {
   "codemirror_mode": {
    "name": "ipython",
    "version": 3
   },
   "file_extension": ".py",
   "mimetype": "text/x-python",
   "name": "python",
   "nbconvert_exporter": "python",
   "pygments_lexer": "ipython3",
   "version": "3.12.3"
  }
 },
 "nbformat": 4,
 "nbformat_minor": 5
}
