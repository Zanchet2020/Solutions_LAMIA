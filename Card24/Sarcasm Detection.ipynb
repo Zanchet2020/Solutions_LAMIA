{
 "cells": [
  {
   "cell_type": "code",
   "execution_count": 1,
   "id": "749f9842-48d3-4e68-8ca1-2d134ceef6b1",
   "metadata": {},
   "outputs": [
    {
     "name": "stdout",
     "output_type": "stream",
     "text": [
      "Path to dataset files: /home/zanchet/.cache/kagglehub/datasets/rmisra/news-headlines-dataset-for-sarcasm-detection/versions/2\n"
     ]
    }
   ],
   "source": [
    "import kagglehub\n",
    "import numpy as np\n",
    "\n",
    "# Download latest version\n",
    "path = kagglehub.dataset_download(\"rmisra/news-headlines-dataset-for-sarcasm-detection\")\n",
    "\n",
    "print(\"Path to dataset files:\", path)"
   ]
  },
  {
   "cell_type": "code",
   "execution_count": 2,
   "id": "aca82918-3d9f-4578-bd67-9f96519bece7",
   "metadata": {},
   "outputs": [],
   "source": [
    "import json\n",
    "\n",
    "sentences = []\n",
    "labels = []\n",
    "urls = []\n",
    "with open(path + \"/Sarcasm_Headlines_Dataset.json\", 'r') as f:\n",
    "    for line in f:\n",
    "        data = json.loads(line)\n",
    "        sentences.append(data['headline'])\n",
    "        labels.append(data['is_sarcastic'])\n",
    "        urls.append(data['article_link'])"
   ]
  },
  {
   "cell_type": "code",
   "execution_count": 3,
   "id": "e0610589-a1fb-41e1-bda1-afd008c2d6a2",
   "metadata": {},
   "outputs": [
    {
     "name": "stderr",
     "output_type": "stream",
     "text": [
      "2024-12-05 11:00:22.301164: I tensorflow/core/util/port.cc:153] oneDNN custom operations are on. You may see slightly different numerical results due to floating-point round-off errors from different computation orders. To turn them off, set the environment variable `TF_ENABLE_ONEDNN_OPTS=0`.\n",
      "2024-12-05 11:00:22.325445: E external/local_xla/xla/stream_executor/cuda/cuda_fft.cc:477] Unable to register cuFFT factory: Attempting to register factory for plugin cuFFT when one has already been registered\n",
      "WARNING: All log messages before absl::InitializeLog() is called are written to STDERR\n",
      "E0000 00:00:1733407222.358710   23850 cuda_dnn.cc:8310] Unable to register cuDNN factory: Attempting to register factory for plugin cuDNN when one has already been registered\n",
      "E0000 00:00:1733407222.371082   23850 cuda_blas.cc:1418] Unable to register cuBLAS factory: Attempting to register factory for plugin cuBLAS when one has already been registered\n",
      "2024-12-05 11:00:22.412710: I tensorflow/core/platform/cpu_feature_guard.cc:210] This TensorFlow binary is optimized to use available CPU instructions in performance-critical operations.\n",
      "To enable the following instructions: AVX2 AVX512F AVX512_VNNI FMA, in other operations, rebuild TensorFlow with the appropriate compiler flags.\n"
     ]
    }
   ],
   "source": [
    "from tensorflow.keras.preprocessing.text import Tokenizer\n",
    "from tensorflow.keras.preprocessing.sequence import pad_sequences"
   ]
  },
  {
   "cell_type": "code",
   "execution_count": 4,
   "id": "df8d1e1c-2061-47e3-a40e-2bb2910cdfd5",
   "metadata": {},
   "outputs": [],
   "source": [
    "tokenizer = Tokenizer(oov_token='<OOV>')\n",
    "tokenizer.fit_on_texts(sentences)"
   ]
  },
  {
   "cell_type": "code",
   "execution_count": 5,
   "id": "9f436896-b3aa-4da4-a7a8-8e7753c12523",
   "metadata": {
    "scrolled": true
   },
   "outputs": [],
   "source": [
    "word_index = tokenizer.word_index\n",
    "vocab_size = len(word_index)"
   ]
  },
  {
   "cell_type": "code",
   "execution_count": 6,
   "id": "ab49a6d0-b71f-41ca-860b-05220403cd52",
   "metadata": {},
   "outputs": [],
   "source": [
    "sequences = tokenizer.texts_to_sequences(sentences)"
   ]
  },
  {
   "cell_type": "code",
   "execution_count": 22,
   "id": "7b271c12-bd7a-4a04-b832-a77b8d972d1f",
   "metadata": {},
   "outputs": [],
   "source": [
    "pad_lenght = 40\n",
    "padded = pad_sequences(sequences, padding='post', maxlen=pad_lenght)"
   ]
  },
  {
   "cell_type": "code",
   "execution_count": 21,
   "id": "2fab03c2-df3a-4ea4-9f05-9f63289b8615",
   "metadata": {},
   "outputs": [
    {
     "data": {
      "text/plain": [
       "40"
      ]
     },
     "execution_count": 21,
     "metadata": {},
     "output_type": "execute_result"
    }
   ],
   "source": [
    "len(padded[0])"
   ]
  },
  {
   "cell_type": "code",
   "execution_count": 9,
   "id": "3fde98c1-4225-4f1e-8799-5522d4fdb8a2",
   "metadata": {},
   "outputs": [
    {
     "data": {
      "text/plain": [
       "(26709, 40)"
      ]
     },
     "execution_count": 9,
     "metadata": {},
     "output_type": "execute_result"
    }
   ],
   "source": [
    "padded.shape"
   ]
  },
  {
   "cell_type": "code",
   "execution_count": 10,
   "id": "2d629f42-d635-492f-b91e-8ffda4e87a6b",
   "metadata": {},
   "outputs": [],
   "source": [
    "validation_percentage = 15\n",
    "\n",
    "ts = int(padded.shape[0] * (100 - validation_percentage) / 100)\n",
    "\n",
    "X_train = padded[0:ts]\n",
    "X_test = padded[ts:]\n",
    "\n",
    "y_train = labels[0:ts]\n",
    "y_test = labels[ts:]"
   ]
  },
  {
   "cell_type": "code",
   "execution_count": 11,
   "id": "c3418e0d-2049-414f-ae05-d2e6fb890f69",
   "metadata": {},
   "outputs": [
    {
     "data": {
      "text/plain": [
       "(22702, 40)"
      ]
     },
     "execution_count": 11,
     "metadata": {},
     "output_type": "execute_result"
    }
   ],
   "source": [
    "X_train.shape"
   ]
  },
  {
   "cell_type": "code",
   "execution_count": 12,
   "id": "de61616a-2984-4fdb-b887-348c24b9fd84",
   "metadata": {},
   "outputs": [
    {
     "data": {
      "text/plain": [
       "(4007, 40)"
      ]
     },
     "execution_count": 12,
     "metadata": {},
     "output_type": "execute_result"
    }
   ],
   "source": [
    "X_test.shape"
   ]
  },
  {
   "cell_type": "code",
   "execution_count": 13,
   "id": "a9d84c28-bd9d-46f8-a958-aba612db09f2",
   "metadata": {},
   "outputs": [],
   "source": [
    "import tensorflow as tf\n"
   ]
  },
  {
   "cell_type": "code",
   "execution_count": 14,
   "id": "68d48797-dec7-4a00-b524-256e4cdd2973",
   "metadata": {},
   "outputs": [
    {
     "name": "stderr",
     "output_type": "stream",
     "text": [
      "/home/zanchet/src/Solutions_LAMIA/.venv/lib/python3.12/site-packages/keras/src/layers/core/embedding.py:90: UserWarning: Argument `input_length` is deprecated. Just remove it.\n",
      "  warnings.warn(\n",
      "I0000 00:00:1733407236.903411   23850 gpu_device.cc:2022] Created device /job:localhost/replica:0/task:0/device:GPU:0 with 2278 MB memory:  -> device: 0, name: NVIDIA GeForce RTX 3050 Laptop GPU, pci bus id: 0000:01:00.0, compute capability: 8.6\n"
     ]
    }
   ],
   "source": [
    "model = tf.keras.Sequential([\n",
    "    tf.keras.layers.Embedding(vocab_size, 600, input_length = X_train.shape[1]),\n",
    "    tf.keras.layers.GlobalAveragePooling1D(),\n",
    "    tf.keras.layers.Dense(24, activation='relu'),\n",
    "    tf.keras.layers.Dense(1, activation='sigmoid')\n",
    "])\n",
    "model.compile(loss='binary_crossentropy', optimizer='adam', metrics=['accuracy'])"
   ]
  },
  {
   "cell_type": "code",
   "execution_count": 15,
   "id": "142ef288-ced6-4448-9a44-eff14f6c70e7",
   "metadata": {},
   "outputs": [],
   "source": [
    "num_epochs = 30"
   ]
  },
  {
   "cell_type": "code",
   "execution_count": 18,
   "id": "5284e63d-4122-4f21-99cc-41e9ab70db5b",
   "metadata": {},
   "outputs": [
    {
     "name": "stdout",
     "output_type": "stream",
     "text": [
      "Epoch 1/30\n",
      "710/710 - 7s - 10ms/step - accuracy: 0.9255 - loss: 0.1919 - val_accuracy: 0.8637 - val_loss: 0.3383\n",
      "Epoch 2/30\n",
      "710/710 - 4s - 6ms/step - accuracy: 0.9506 - loss: 0.1321 - val_accuracy: 0.8425 - val_loss: 0.4033\n",
      "Epoch 3/30\n",
      "710/710 - 4s - 6ms/step - accuracy: 0.9619 - loss: 0.1038 - val_accuracy: 0.8570 - val_loss: 0.4037\n",
      "Epoch 4/30\n",
      "710/710 - 4s - 6ms/step - accuracy: 0.9748 - loss: 0.0709 - val_accuracy: 0.8485 - val_loss: 0.4772\n",
      "Epoch 5/30\n",
      "710/710 - 4s - 6ms/step - accuracy: 0.9813 - loss: 0.0528 - val_accuracy: 0.8425 - val_loss: 0.5518\n",
      "Epoch 6/30\n",
      "710/710 - 4s - 6ms/step - accuracy: 0.9848 - loss: 0.0422 - val_accuracy: 0.8216 - val_loss: 0.6835\n",
      "Epoch 7/30\n",
      "710/710 - 4s - 6ms/step - accuracy: 0.9882 - loss: 0.0347 - val_accuracy: 0.8143 - val_loss: 0.7511\n",
      "Epoch 8/30\n",
      "710/710 - 4s - 6ms/step - accuracy: 0.9880 - loss: 0.0346 - val_accuracy: 0.8423 - val_loss: 0.6680\n",
      "Epoch 9/30\n",
      "710/710 - 4s - 6ms/step - accuracy: 0.9866 - loss: 0.0373 - val_accuracy: 0.8365 - val_loss: 0.7161\n",
      "Epoch 10/30\n",
      "710/710 - 4s - 6ms/step - accuracy: 0.9915 - loss: 0.0233 - val_accuracy: 0.8443 - val_loss: 0.7775\n",
      "Epoch 11/30\n",
      "710/710 - 4s - 6ms/step - accuracy: 0.9867 - loss: 0.0360 - val_accuracy: 0.8201 - val_loss: 0.7305\n",
      "Epoch 12/30\n",
      "710/710 - 4s - 6ms/step - accuracy: 0.9929 - loss: 0.0212 - val_accuracy: 0.8360 - val_loss: 0.7989\n",
      "Epoch 13/30\n",
      "710/710 - 4s - 6ms/step - accuracy: 0.9947 - loss: 0.0152 - val_accuracy: 0.8298 - val_loss: 0.8837\n",
      "Epoch 14/30\n",
      "710/710 - 4s - 6ms/step - accuracy: 0.9944 - loss: 0.0164 - val_accuracy: 0.8258 - val_loss: 0.9567\n",
      "Epoch 15/30\n",
      "710/710 - 4s - 6ms/step - accuracy: 0.9931 - loss: 0.0178 - val_accuracy: 0.8233 - val_loss: 0.9708\n",
      "Epoch 16/30\n",
      "710/710 - 4s - 6ms/step - accuracy: 0.9951 - loss: 0.0142 - val_accuracy: 0.8278 - val_loss: 0.9456\n",
      "Epoch 17/30\n",
      "710/710 - 5s - 7ms/step - accuracy: 0.9954 - loss: 0.0122 - val_accuracy: 0.8308 - val_loss: 0.9562\n",
      "Epoch 18/30\n",
      "710/710 - 5s - 7ms/step - accuracy: 0.9905 - loss: 0.0252 - val_accuracy: 0.8248 - val_loss: 0.9317\n",
      "Epoch 19/30\n",
      "710/710 - 5s - 7ms/step - accuracy: 0.9942 - loss: 0.0169 - val_accuracy: 0.8093 - val_loss: 1.0363\n",
      "Epoch 20/30\n",
      "710/710 - 5s - 7ms/step - accuracy: 0.9964 - loss: 0.0114 - val_accuracy: 0.8241 - val_loss: 1.0425\n",
      "Epoch 21/30\n",
      "710/710 - 5s - 7ms/step - accuracy: 0.9970 - loss: 0.0084 - val_accuracy: 0.8261 - val_loss: 1.0887\n",
      "Epoch 22/30\n",
      "710/710 - 5s - 7ms/step - accuracy: 0.9926 - loss: 0.0227 - val_accuracy: 0.8290 - val_loss: 0.9638\n",
      "Epoch 23/30\n",
      "710/710 - 5s - 7ms/step - accuracy: 0.9972 - loss: 0.0082 - val_accuracy: 0.8276 - val_loss: 1.0998\n",
      "Epoch 24/30\n",
      "710/710 - 5s - 7ms/step - accuracy: 0.9949 - loss: 0.0138 - val_accuracy: 0.8320 - val_loss: 1.0335\n",
      "Epoch 25/30\n",
      "710/710 - 5s - 7ms/step - accuracy: 0.9955 - loss: 0.0121 - val_accuracy: 0.8293 - val_loss: 1.0192\n",
      "Epoch 26/30\n",
      "710/710 - 5s - 7ms/step - accuracy: 0.9960 - loss: 0.0115 - val_accuracy: 0.8295 - val_loss: 1.1059\n",
      "Epoch 27/30\n",
      "710/710 - 5s - 7ms/step - accuracy: 0.9939 - loss: 0.0153 - val_accuracy: 0.8295 - val_loss: 1.0263\n",
      "Epoch 28/30\n",
      "710/710 - 5s - 7ms/step - accuracy: 0.9983 - loss: 0.0053 - val_accuracy: 0.8181 - val_loss: 1.3423\n",
      "Epoch 29/30\n",
      "710/710 - 5s - 7ms/step - accuracy: 0.9988 - loss: 0.0036 - val_accuracy: 0.8153 - val_loss: 1.4306\n",
      "Epoch 30/30\n",
      "710/710 - 5s - 7ms/step - accuracy: 0.9957 - loss: 0.0125 - val_accuracy: 0.8293 - val_loss: 0.9786\n"
     ]
    }
   ],
   "source": [
    "history = model.fit(np.array(X_train), np.array(y_train), epochs = num_epochs, validation_data=(np.array(X_test), np.array(y_test)), verbose=2)"
   ]
  },
  {
   "cell_type": "code",
   "execution_count": 25,
   "id": "181059b4-db4f-4d36-9ba0-0b211f7b9672",
   "metadata": {},
   "outputs": [],
   "source": [
    "sentences = [\n",
    "    \"Hi, I am Lucas, a Computer Engineering student\",\n",
    "    \"Niggas are really good at basketball, aren't they?\",\n",
    "    \"granny starting to feel spiders in the garden might be real\",\n",
    "    \"the weather today is bright and sunny\"\n",
    "]"
   ]
  },
  {
   "cell_type": "code",
   "execution_count": 26,
   "id": "2c159894-c35c-4c93-9000-ca1af6a3cb74",
   "metadata": {},
   "outputs": [],
   "source": [
    "sequences = tokenizer.texts_to_sequences(sentences)"
   ]
  },
  {
   "cell_type": "code",
   "execution_count": 27,
   "id": "b87a8d44-4530-4202-8980-7005c6141a3a",
   "metadata": {},
   "outputs": [],
   "source": [
    "padded = pad_sequences(sequences, maxlen=pad_lenght, padding=\"post\")"
   ]
  },
  {
   "cell_type": "code",
   "execution_count": 28,
   "id": "0e20201a-332a-45f3-9e8c-8618df96aad4",
   "metadata": {},
   "outputs": [
    {
     "name": "stdout",
     "output_type": "stream",
     "text": [
      "\u001b[1m1/1\u001b[0m \u001b[32m━━━━━━━━━━━━━━━━━━━━\u001b[0m\u001b[37m\u001b[0m \u001b[1m2s\u001b[0m 2s/step\n"
     ]
    },
    {
     "data": {
      "text/plain": [
       "array([[2.2120286e-04],\n",
       "       [4.5468193e-01],\n",
       "       [6.3157463e-01],\n",
       "       [2.6847487e-05]], dtype=float32)"
      ]
     },
     "execution_count": 28,
     "metadata": {},
     "output_type": "execute_result"
    }
   ],
   "source": [
    "model.predict(padded)"
   ]
  }
 ],
 "metadata": {
  "kernelspec": {
   "display_name": "Python 3 (ipykernel)",
   "language": "python",
   "name": "python3"
  },
  "language_info": {
   "codemirror_mode": {
    "name": "ipython",
    "version": 3
   },
   "file_extension": ".py",
   "mimetype": "text/x-python",
   "name": "python",
   "nbconvert_exporter": "python",
   "pygments_lexer": "ipython3",
   "version": "3.12.3"
  }
 },
 "nbformat": 4,
 "nbformat_minor": 5
}
