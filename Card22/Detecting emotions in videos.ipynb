{
 "cells": [
  {
   "cell_type": "code",
   "execution_count": 1,
   "metadata": {
    "colab": {
     "base_uri": "https://localhost:8080/",
     "height": 35
    },
    "id": "PTjPR159Rxid",
    "outputId": "fff545d5-7062-4d07-d55d-6a0a2e2029be"
   },
   "outputs": [
    {
     "data": {
      "text/plain": [
       "'4.10.0'"
      ]
     },
     "execution_count": 1,
     "metadata": {},
     "output_type": "execute_result"
    }
   ],
   "source": [
    "import cv2\n",
    "import numpy as np\n",
    "import time\n",
    "import pandas as pd\n",
    "import matplotlib.pyplot as plt\n",
    "import zipfile\n",
    "\n",
    "cv2.__version__"
   ]
  },
  {
   "cell_type": "code",
   "execution_count": 2,
   "metadata": {
    "colab": {
     "base_uri": "https://localhost:8080/",
     "height": 35
    },
    "id": "HI_stTb4ja_D",
    "outputId": "85beb155-df81-4daa-863d-f519cab56ac3"
   },
   "outputs": [
    {
     "name": "stderr",
     "output_type": "stream",
     "text": [
      "2024-11-15 23:49:41.523945: I tensorflow/core/util/port.cc:153] oneDNN custom operations are on. You may see slightly different numerical results due to floating-point round-off errors from different computation orders. To turn them off, set the environment variable `TF_ENABLE_ONEDNN_OPTS=0`.\n",
      "2024-11-15 23:49:41.534183: E external/local_xla/xla/stream_executor/cuda/cuda_fft.cc:485] Unable to register cuFFT factory: Attempting to register factory for plugin cuFFT when one has already been registered\n",
      "2024-11-15 23:49:41.545860: E external/local_xla/xla/stream_executor/cuda/cuda_dnn.cc:8454] Unable to register cuDNN factory: Attempting to register factory for plugin cuDNN when one has already been registered\n",
      "2024-11-15 23:49:41.549487: E external/local_xla/xla/stream_executor/cuda/cuda_blas.cc:1452] Unable to register cuBLAS factory: Attempting to register factory for plugin cuBLAS when one has already been registered\n",
      "2024-11-15 23:49:41.557964: I tensorflow/core/platform/cpu_feature_guard.cc:210] This TensorFlow binary is optimized to use available CPU instructions in performance-critical operations.\n",
      "To enable the following instructions: AVX2 AVX512F AVX512_VNNI FMA, in other operations, rebuild TensorFlow with the appropriate compiler flags.\n",
      "2024-11-15 23:49:42.237139: W tensorflow/compiler/tf2tensorrt/utils/py_utils.cc:38] TF-TRT Warning: Could not find TensorRT\n"
     ]
    },
    {
     "data": {
      "text/plain": [
       "'2.17.0'"
      ]
     },
     "execution_count": 2,
     "metadata": {},
     "output_type": "execute_result"
    }
   ],
   "source": [
    "import tensorflow\n",
    "tensorflow.__version__"
   ]
  },
  {
   "cell_type": "code",
   "execution_count": 3,
   "metadata": {
    "id": "A5CRLoHOMh3z"
   },
   "outputs": [
    {
     "name": "stderr",
     "output_type": "stream",
     "text": [
      "WARNING: All log messages before absl::InitializeLog() is called are written to STDERR\n",
      "I0000 00:00:1731725382.754912   40537 cuda_executor.cc:1015] successful NUMA node read from SysFS had negative value (-1), but there must be at least one NUMA node, so returning NUMA node zero. See more at https://github.com/torvalds/linux/blob/v6.0/Documentation/ABI/testing/sysfs-bus-pci#L344-L355\n",
      "2024-11-15 23:49:42.789532: W tensorflow/core/common_runtime/gpu/gpu_device.cc:2343] Cannot dlopen some GPU libraries. Please make sure the missing libraries mentioned above are installed properly if you would like to use GPU. Follow the guide at https://www.tensorflow.org/install/gpu for how to download and setup the required libraries for your platform.\n",
      "Skipping registering GPU devices...\n"
     ]
    }
   ],
   "source": [
    "from tensorflow.keras.models import load_model\n",
    "\n",
    "diretorio = './modelo_01_expressoes.keras'\n",
    "model = load_model(diretorio)"
   ]
  },
  {
   "cell_type": "code",
   "execution_count": 4,
   "metadata": {
    "colab": {
     "base_uri": "https://localhost:8080/"
    },
    "id": "GYadz-xeqGUg",
    "outputId": "09b09153-984b-4131-a139-04a0185208af"
   },
   "outputs": [
    {
     "name": "stdout",
     "output_type": "stream",
     "text": [
      "(360, 640, 3)\n"
     ]
    }
   ],
   "source": [
    "arquivo_video = \"./Material/Videos/video_teste04.mp4\"\n",
    "cap = cv2.VideoCapture(arquivo_video)\n",
    "\n",
    "conectado, video = cap.read()\n",
    "print(video.shape) "
   ]
  },
  {
   "cell_type": "code",
   "execution_count": 5,
   "metadata": {
    "id": "xyAWWB-9wmzs"
   },
   "outputs": [],
   "source": [
    "redimensionar = True\n",
    "largura_maxima = 600  \n",
    "\n",
    "if (redimensionar and video.shape[1]>largura_maxima):\n",
    "  proporcao = video.shape[1] / video.shape[0]\n",
    "  video_largura = largura_maxima\n",
    "  video_altura = int(video_largura / proporcao)\n",
    "else:\n",
    "  video_largura = video.shape[1]\n",
    "  video_altura = video.shape[0]"
   ]
  },
  {
   "cell_type": "code",
   "execution_count": 6,
   "metadata": {
    "id": "C-wF747A4_91"
   },
   "outputs": [],
   "source": [
    "# nome do arquivo de vídeo que será salvo\n",
    "nome_arquivo = diretorio+'resultado_video_teste04.avi'\n",
    "\n",
    "# definição do codec\n",
    "fourcc = cv2.VideoWriter_fourcc(*'XVID')\n",
    "# FourCC é um código de 4 bytes usado para especificar o codec de vídeo. A lista de códigos disponíveis pode ser encontrada no site fourcc.org\n",
    "# Codecs mais usados: XVID, MP4V, MJPG, DIVX, X264...\n",
    "# Por exemplo, para salvar em formato mp4 utiliza-se o codec mp4v (o nome do arquivo também precisa possuir a extensão .mp4)\n",
    "# fourcc = cv2.VideoWriter_fourcc(*'mp4v')\n",
    "\n",
    "# FPS - frames por segundo\n",
    "fps = 24\n",
    "# se quiser deixar o video um pouco mais lento pode diminuir o numero de frames por segundo para 20\n",
    "\n",
    "saida_video = cv2.VideoWriter(nome_arquivo, fourcc, fps, (video_largura, video_altura))"
   ]
  },
  {
   "cell_type": "code",
   "execution_count": 12,
   "metadata": {
    "colab": {
     "background_save": true,
     "base_uri": "https://localhost:8080/",
     "height": 1000
    },
    "id": "ZYGv1W-Lpywi",
    "outputId": "1e07df67-2b3e-4ddd-89b9-69c37ca59f76"
   },
   "outputs": [
    {
     "name": "stdout",
     "output_type": "stream",
     "text": [
      "Terminou\n"
     ]
    }
   ],
   "source": [
    "from tensorflow.keras.preprocessing.image import img_to_array\n",
    "from IPython.display import display\n",
    "\n",
    "haarcascade_faces = './Material/haarcascade_frontalface_default.xml' # arquivo haarcascade\n",
    "\n",
    "# define os tamanhos para as fontes\n",
    "fonte_pequena, fonte_media = 0.4, 0.7\n",
    "\n",
    "fonte = cv2.FONT_HERSHEY_SIMPLEX\n",
    "\n",
    "expressoes = [\"Raiva\", \"Nojo\", \"Medo\", \"Feliz\", \"Triste\", \"Surpreso\", \"Neutro\"]\n",
    "\n",
    "while (cv2.waitKey(1) < 0):\n",
    "    conectado, frame = cap.read()\n",
    "\n",
    "    if not conectado:\n",
    "        break  # se ocorreu um problema ao carregar a imagem então interrompe o programa\n",
    "\n",
    "    t = time.time() # tempo atual, antes de iniciar (vamos utilizar para calcular quanto tempo levou para executar as operações)\n",
    "\n",
    "    # frame_video = np.copy(frame) # faz uma copia do frame do video\n",
    "\n",
    "    if redimensionar: # se redimensionar = True então redimensiona o frame para os novos tamanhos\n",
    "      frame = cv2.resize(frame, (video_largura, video_altura))\n",
    "\n",
    "    face_cascade = cv2.CascadeClassifier(haarcascade_faces)\n",
    "    gray = cv2.cvtColor(frame, cv2.COLOR_BGR2GRAY) # converte pra grayscale\n",
    "    faces = face_cascade.detectMultiScale(gray,scaleFactor=1.2, minNeighbors=5,minSize=(30,30))\n",
    "\n",
    "    if len(faces) > 0:\n",
    "        for (x, y, w, h) in faces:\n",
    "\n",
    "            frame = cv2.rectangle(frame,(x,y),(x+w,y+h+10),(255,50,50),2) # desenha retângulo ao redor da face\n",
    "\n",
    "            roi = gray[y:y + h, x:x + w]      # extrai apenas a região de interesse (ROI) que é onde contém o rosto\n",
    "            roi = cv2.resize(roi, (48, 48))    # antes de passar pra rede neural redimensiona para o tamanho das imagens de treinamento\n",
    "            roi = roi.astype(\"float\") / 255.0  # normaliza\n",
    "            roi = img_to_array(roi)            # converte para array para que a rede possa processar\n",
    "            roi = np.expand_dims(roi, axis=0)  # muda o shape da array\n",
    "\n",
    "            # faz a predição - calcula as probabilidades\n",
    "            result = model.predict(roi)[0]\n",
    "            print(result)\n",
    "\n",
    "            if result is not None:\n",
    "                resultado = np.argmax(result) # encontra a emoção com maior probabilidade\n",
    "                cv2.putText(frame,expressoes[resultado],(x,y-10), fonte, fonte_media,(255,255,255),1,cv2.LINE_AA) # escreve a emoção acima do rosto\n",
    "\n",
    "    # tempo processado = tempo atual (time.time()) - tempo inicial (t)\n",
    "    cv2.putText(frame, \" frame processado em {:.2f} segundos\".format(time.time() - t), (20, video_altura-20), fonte, fonte_pequena, (250, 250, 250), 0, lineType=cv2.LINE_AA)\n",
    "\n",
    "    saida_video.write(frame) # grava o frame atual\n",
    "\n",
    "print(\"Terminou\")\n",
    "saida_video.release()\n",
    "cv2.destroyAllWindows()"
   ]
  }
 ],
 "metadata": {
  "accelerator": "GPU",
  "colab": {
   "provenance": []
  },
  "kernelspec": {
   "display_name": "Python 3 (ipykernel)",
   "language": "python",
   "name": "python3"
  },
  "language_info": {
   "codemirror_mode": {
    "name": "ipython",
    "version": 3
   },
   "file_extension": ".py",
   "mimetype": "text/x-python",
   "name": "python",
   "nbconvert_exporter": "python",
   "pygments_lexer": "ipython3",
   "version": "3.12.6"
  }
 },
 "nbformat": 4,
 "nbformat_minor": 4
}
